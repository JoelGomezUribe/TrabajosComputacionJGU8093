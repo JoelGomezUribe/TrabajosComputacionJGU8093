{
 "cells": [
  {
   "cell_type": "markdown",
   "metadata": {},
   "source": [
    "# SISTEMA OPERATIVO LINUX\n",
    "\n",
    "## Práctica 2 Realizada por Joel Gómez Uribe\n",
    "\n",
    "### Trabajo con Archivos (redireccionamiento, búsqueda, filtros y permisos)\n",
    "\n",
    "Para esta práctica se trabajo con una base de datos generada artificialmente. Esta se encoentraba comprimida en el archivo **base.tar.gz**. \n",
    "\n",
    "---\n"
   ]
  },
  {
   "cell_type": "markdown",
   "metadata": {},
   "source": [
    "## Antes de empezar ...\n",
    "\n",
    "La **Base de Datos** esta organizada de la siguiente manera: \n",
    "\n",
    "Un directorio llamado _directorio_ con subdirectorios organizados por alcaldías de la CDMX y sectores. \n",
    "Dentro de cada sector se encuentran archivos cuyo nombre esta dado por una fecha y dentro de cada uno hay una lista con 40 nombres y telefonos (todos generados aleatoriamente). \n",
    "\n",
    "Se descomprimio la base de datos utiliza el comando: \n",
    "\n",
    "`tar -xzf base.tar.gz`\n",
    "\n",
    "En esta práctica se utilizo el comando recien aprendido _**`wc`**_ (word counting)\n",
    "\n",
    "`wc -l archivo` para contar líneas\n",
    "\n",
    "`wc -w archivo` para contar palabras"
   ]
  },
  {
   "cell_type": "markdown",
   "metadata": {},
   "source": [
    "## Indicaciones"
   ]
  },
  {
   "cell_type": "markdown",
   "metadata": {},
   "source": [
    "- Sólo su usaron comandos de Bash en la misma terminal (excepto para el apartado de permisos debido a problemas con su funcionamiento en Windows), aqui estan puestos que comando se utilizo exactamente y porque se utilizo.\n",
    "\n",
    "- Todos los comandos que use estan en el notebook, excepto: tac, y find -size.\n",
    "\n",
    "- Los archivos resultantes se colocaron en un directorio llamado __*Resultados*__. Esta carpeta fue comprimida y subida al Classroom. El archivo que se subio esta comprimido en un archivo .tar.gz, para ello se utilizo el comando:\n",
    "\n",
    "`tar -czf resultado.tar.gz Resultados/`\n",
    "\n"
   ]
  },
  {
   "cell_type": "markdown",
   "metadata": {},
   "source": [
    "## cat,  head, tail"
   ]
  },
  {
   "cell_type": "markdown",
   "metadata": {},
   "source": [
    "_\"1. Copia el archivo (utilizando comandos de bash) que se encuentra en `directorio/TLALPAN/sectorH/names_2009-08-30.txt` a la carpeta `Resultados`._\n",
    "\n",
    "_Ahora colócate en el directorio `Resultados` y ejecuta los siguientes comandos, para responder a las siguientes preguntas:  \"_\n",
    "    "
   ]
  },
  {
   "cell_type": "markdown",
   "metadata": {},
   "source": [
    "Para hacer esta actividad nos encontramos en una carpeta llamada Practicas, la cual contiene la base de datos _directorio_ y el directorio _Resultados_. Y para hacer lo que se pide ejecute los siguientes comandos en la terminal:\n"
   ]
  },
  {
   "cell_type": "code",
   "execution_count": null,
   "metadata": {},
   "outputs": [],
   "source": [
    "cp directorio/TLALPAN/sectorH/names_2009-08-30.txt Resultados/esultados/\n",
    "cd Resultados/"
   ]
  },
  {
   "cell_type": "markdown",
   "metadata": {},
   "source": [
    "_\"2. ¿Cuál es el resultado de ejecutar los siguientes comandos en la terminal?_ \n",
    "\n",
    "    a) `cat < names_2009-08-30.txt > names_cat.txt`\n",
    "    \n",
    "    b) `cat < names_2009-08-30.txt >> names_cat.txt`\""
   ]
  },
  {
   "cell_type": "markdown",
   "metadata": {},
   "source": [
    "Al ejecutar primero el comando a) lo que hace es ejecutar el comando cat sobre sobre el archivo name_2009-08-30.txt, osea despliega su continido, pero al usar el redireccionamiento de salida (>) en vez de desplegarlo en la terminal lo hace sobre el archivo recien creado names_cat.txt (en una forma mas cotidiana, crea una copia del primer archivo).\n"
   ]
  },
  {
   "cell_type": "markdown",
   "metadata": {},
   "source": [
    "Al ejecutar primero el comando b) lo que hace es ejecutar el comando cat sobre sobre el archivo name_2009-08-30.txt, como en el comando a), pero al usar el redireccionamiento de adicion (>>) en vez de crear un archivo llamado names_cat.txt y borrar lo anterior, adiere lo que el comando cat despliega en el archivo sin modificar lo ya escrito sobre el (en una forma mas cotidiana, pega el contenido del primer archivo en el segundo)."
   ]
  },
  {
   "cell_type": "markdown",
   "metadata": {},
   "source": [
    "_\"3. ¿Cuál es la diferencia entre ambos? Explícalo con tus propias palabras.\"_"
   ]
  },
  {
   "cell_type": "markdown",
   "metadata": {},
   "source": [
    "La primera parte de ambos comandos ejecuta lo mismo (despliega el contenido del archivo), pero lo que hace el primer comando es crear un archivo nuevo y escribir lo que despliega la primera parte del comando (en caso de que ya hubiera existido ese archivo, borra lo anterior y escribe lo que se pide). Y en el segundo comando escribe sobre ese archivo lo que despliega el comando cat, sin borrar lo que ya habia en ese archivo."
   ]
  },
  {
   "cell_type": "markdown",
   "metadata": {},
   "source": [
    "_\"4. ¿Cuál es la diferencia entre estos comandos?_\n",
    " \n",
    "    a) `cat names.txt 2> err.dat`\n",
    "    \n",
    "    b) `cata names.txt 2> err.dat`\"\n",
    "    "
   ]
  },
  {
   "cell_type": "markdown",
   "metadata": {},
   "source": [
    "Ambos comandos van a escribir sobre el archivo `err.dat` un error en los comandos, con el comando a) va a marcar el error de que no se encuentra el archivo names.txt (debido a que no hay ningun archivo llamado asi en el directorio). Y en el comando b) va a marcar el error de que no existe el comando cata.\n",
    "Estos errores no se marcan en la terminal, solo se escribiran en el archivo por el redireccionamiento no destructivo (2>)."
   ]
  },
  {
   "cell_type": "markdown",
   "metadata": {},
   "source": [
    "_\"5. Por último ejecuta: `cat > feliz` enseguida escibre algo y luego ejecuta `Ctrl+D` dos veces. ¿qué fue lo que sucedio?\"_"
   ]
  },
  {
   "cell_type": "markdown",
   "metadata": {},
   "source": [
    "Al ejecutar este comando crea un archivo llamado `feliz`, la terminal no se refresca alinstante y puedo escribir una frase, despues de ejecutar `Ctrl+D` dos veces se guarda lo que se escribio sobre la terminal en el archivo `feliz`."
   ]
  },
  {
   "cell_type": "markdown",
   "metadata": {},
   "source": [
    "_\"6. ¿Existe algúna forma, con los comandos de bash, de mostrar el archivo de forma inversa? En caso de existir, utilízalo para ver el archivo `directorio/COYOACAN/sectorG/names_2005-09-27.txt` y guarda la salida en el archivo `catinverso.dat`\"_ "
   ]
  },
  {
   "cell_type": "markdown",
   "metadata": {},
   "source": [
    "Esiste el comando tac, que como si nombre lo indica, efectua lo que mismo que cat pero de forma inversa (la ultima linea del archivo es la primera enser mostrada y la primera es la ultima). Aunque hay un problema, el archivo al que se hace referencia en la practica no existe, pero se utilizo el archivo `names_2005-09-27.dat` que esta en la misma direcion. El comando que se utilizo fue: "
   ]
  },
  {
   "cell_type": "code",
   "execution_count": null,
   "metadata": {},
   "outputs": [],
   "source": [
    "tac ../directorio/COYOACAN/sectorG/names_2005-09-27.dat > catinverso.dat"
   ]
  },
  {
   "cell_type": "markdown",
   "metadata": {},
   "source": [
    "_\"7. Crea un solo archivo con el nombre `todosarchivos.txt` que tenga el contenido de todos los archivos del directorio `directorio/CUAUHTEMOC/sectorE/`\"_"
   ]
  },
  {
   "cell_type": "markdown",
   "metadata": {},
   "source": [
    "Para ver el contenido de todos los archivos de ese directorio se utiliza el comando cat, nos ubicacamos en esa direccion y con el comodin * se hace referencia a todos los archivos de ese directorio, luego se redirecciona esta informacion hacia el archivo `todosarchivos.txt`. EL comando utilizado fue:"
   ]
  },
  {
   "cell_type": "code",
   "execution_count": null,
   "metadata": {},
   "outputs": [],
   "source": [
    "cat ../directorio/CUAUHTEMOC/sectorE/* > todosarchivos.txt"
   ]
  },
  {
   "cell_type": "markdown",
   "metadata": {},
   "source": [
    "_\"8. Coloca en un archivo con el nombre `colacabeza` las primeras 23 líneas numeradas y las últimas 32 líneas numeradas del archivo `todosarchivos.txt`_\n",
    " \n",
    " \n",
    "_*Opcional*: Numera las líneas.  Genera un archivo donde se indiquen con numeros las líneas de este archivo.\"_"
   ]
  },
  {
   "cell_type": "markdown",
   "metadata": {},
   "source": [
    "Para esto se usa el comando head con las primeras 23 lineas de `todosarchivos.txt`, se redirecciona a `colacabeza`, luego se usa el comando tail con las ultimas 32 lineas de `todosarchivos.txt`, se redirecciona en adicion a `colacabeza`, y esto nos genera el archivo deseado."
   ]
  },
  {
   "cell_type": "markdown",
   "metadata": {},
   "source": [
    "Y luego para generar un archivo con las filas numeradas se utiliza el comando  cat -n sobre `colacabeza` y se redirecciona a `numeradocolacabeza`. Los comandos usados fueron:"
   ]
  },
  {
   "cell_type": "code",
   "execution_count": null,
   "metadata": {},
   "outputs": [],
   "source": [
    "head -23 todosarchivos.txt > colacabeza\n",
    "tail -32 todosarchivos.txt >> colacabeza\n",
    "cat -n colacabeza > numeradocolacabeza"
   ]
  },
  {
   "cell_type": "markdown",
   "metadata": {},
   "source": [
    "## Permisos"
   ]
  },
  {
   "cell_type": "markdown",
   "metadata": {},
   "source": [
    "Dabido a que mi computadora tiene problemas al cambiar los permisos por utilizar Windows, las siguientes actividades las realice en Binder. Se creo una carpeta de Resultados y se realizararon las actividades sobre ella, los resultados finales se descargaron y fueron puestos en mi propio directorio de Resultados el cual fue entregado."
   ]
  },
  {
   "cell_type": "markdown",
   "metadata": {},
   "source": [
    "_\"9. Explica que hace el comando `umask` y pon un ejemplo de su uso.\"_ "
   ]
  },
  {
   "cell_type": "markdown",
   "metadata": {},
   "source": [
    "El comando umask establece un permiso de archivo predeterminado para todos los archivos y directorios que cree. Por ejemplo, si desea proporcionar a los miembros del grupo y a todos los usuarios permisos (-rwxr-xr-x) de lectura y ejecución solamente para los directorios y archivos, defina el comando umask en los archivos .txt y .dat, de modo que cada nuevo archivo o directorio que cree quede protegido por estos permisos.\n",
    "Al igual que el comando chmod, umask utiliza un código numérico octal para representar permisos de archivo absolutos. Sin embargo, el método utilizado para calcular el código de umask es bastante diferente del utilizado con chmod.\n",
    "Primero, si umask se establece a 000, todos los archivos que cree tendrán los siguientes permisos (de lectura y escritura pero no de ejecución):\n",
    "rw-rw-rw- (modo octal 666)\n",
    "y todos los directorios creados tendrán los siguientes permisos (de lectura, escritura y ejecución):\n",
    "rwxrwxrwx (modo octal 777)\n",
    "Para determinar el valor de uso de umask, se resta el valor de los permisos que desee (utilizando el valor para el comando chmod) de los permisos predeterminados actuales asignados a los archivos. El resto es el valor que va a usar el comando umask.\n",
    "Por ejemplo, suponga que desea cambiar el modo de acceso predeterminado de los archivos que van desde 777 (rwxrwxrwx) hasta 644 (rw-r--r--). Reste 644 de 777. El resto, 133, es el valor numérico que se va a utilizar. Para esto se usa el comando:"
   ]
  },
  {
   "cell_type": "code",
   "execution_count": null,
   "metadata": {},
   "outputs": [],
   "source": [
    "umask 133"
   ]
  },
  {
   "cell_type": "markdown",
   "metadata": {},
   "source": [
    "_\"10. Copia la carpeta `CUAUHTEMOC` dentro de `Resultados/` y cambia los permisos de todos los archivos de la siguiente manera sólo lectura y escritura para el dueño, sólo ejecución para el grupo y sólo lectura para los demás.\"_"
   ]
  },
  {
   "cell_type": "markdown",
   "metadata": {},
   "source": [
    "Para esto se copio el directorio `CUAUHTEMOC` en `Resultados` con cp -r, y luego con el comando chmod se cambiaron los permisos de todos los archivos usando la asignacion 612 (escritura y lectura para el usuario, ejecucion para el grupo, y lectura para los demas). Los comandos usados fueron:"
   ]
  },
  {
   "cell_type": "code",
   "execution_count": null,
   "metadata": {},
   "outputs": [],
   "source": [
    "cp -r ../directorio/CUAUHTEMOC/ ../Resultados/\n",
    "chmod 612 CUAUHTEMOC/*/*"
   ]
  },
  {
   "cell_type": "markdown",
   "metadata": {},
   "source": [
    "_\"11. Cambia los permisos (por el método octal) de todos los archivos con terminación __.txt__ dentro de la carpeta `CUAUHTEMOC/sectorG/`, de tal manera que el dueño tenga lectura, escritura y ejecución, sólo lectura para el grupo y ningún permiso para los demás.\"_"
   ]
  },
  {
   "cell_type": "markdown",
   "metadata": {},
   "source": [
    "Para esto se uso chmod 720 (que cumple os permisos que se piden) y lo hace sobre los archivos .txt en el sectorG. Se uso el siguiente comando:"
   ]
  },
  {
   "cell_type": "code",
   "execution_count": null,
   "metadata": {},
   "outputs": [],
   "source": [
    "chmod 720 CUAUHTEMOC/sectorG/*.txt"
   ]
  },
  {
   "cell_type": "markdown",
   "metadata": {},
   "source": [
    "_\"12. Cambia los permisos de todos los archivos con terminación __.dat__ dentro de la carpeta `CUAUHTEMOC/sectorP/`, de tal manera que el dueño tenga todos los permisos, sólo ejecución para el grupo y sólo lectura  para los demás. Aplica un `ls -l` para ver el resultado y guarda eso en un archivo con nombre `permisos.dat`\"_"
   ]
  },
  {
   "cell_type": "markdown",
   "metadata": {},
   "source": [
    "Para esto se uso chmod 712 (que cumple os permisos que se piden) y lo hace sobre los archivos .dat en el sectorP. Luego se aplico el comando ls -l sibre el sectorP y se redirecciono al archivo `permisos.dat`, esto se guardo en el binder, luego lo descargue y lo puse en mi propia carpeta de Resultados. Se usaron los siguientes comandos:"
   ]
  },
  {
   "cell_type": "code",
   "execution_count": null,
   "metadata": {},
   "outputs": [],
   "source": [
    "chmod 712 CUAUHTEMOC/sectorP/*.dat\n",
    "ls -l CUAUHTEMOC/sectorP/ > permisos.dat"
   ]
  },
  {
   "cell_type": "markdown",
   "metadata": {},
   "source": [
    "_\"13. Utiliza el método (númerico o simbólico) que quieras para cambiar los permisos de todos los archivos en cuyo nombre este la fecha de mayo (05) que están dentro de la carpetas `CUAUHTEMOC/sectorP/` y `CUAUHTEMOC/sectorO/`. Los permisos deberán quedar de la siguiente manera todos los permisos para el dueño y ningún permiso para el grupo y los demás usuarios.\"_"
   ]
  },
  {
   "cell_type": "markdown",
   "metadata": {},
   "source": [
    "Para esto se uso chmod 700 (que cumple os permisos que se piden) y lo hace sobre los archivos que son de mayo (su nombre tiene el patron -05-) en sectorP y sectorO. Se uso el siguiente comando:"
   ]
  },
  {
   "cell_type": "code",
   "execution_count": null,
   "metadata": {},
   "outputs": [],
   "source": [
    "chmod 700 CUAUHTEMOC/{sectorO,sectorP}/*-05-*"
   ]
  },
  {
   "cell_type": "markdown",
   "metadata": {},
   "source": [
    "\n",
    "\n",
    "## find y grep"
   ]
  },
  {
   "cell_type": "markdown",
   "metadata": {},
   "source": [
    "_\"14. ¿Cuántos archivos tienen una extensión de `.txt` y cuántos tienen una extension `.dat`?\"_"
   ]
  },
  {
   "cell_type": "markdown",
   "metadata": {},
   "source": [
    "Para esto se puscaron los archivos que en su nombre tengan la terminacion .txt y luego los archivos con terminacion .dat (con el comando wc -l nos cuante las lineas de la busqueda y nos da el total, osea el total de archivos con esta terminacion). En total son:\n",
    "\n",
    ".txt: 2036\n",
    "\n",
    ".dat: 2121\n",
    "\n",
    "Los comandos utilizados fueron:"
   ]
  },
  {
   "cell_type": "code",
   "execution_count": null,
   "metadata": {},
   "outputs": [],
   "source": [
    "find ../directorio/ -name \"*.txt\" | wc -l\n",
    "find ../directorio/ -name \"*.dat\" | wc -l"
   ]
  },
  {
   "cell_type": "markdown",
   "metadata": {},
   "source": [
    "_\"15. ¿Cuántos veces aparece `tu nombre` (sin apellido) en todos los archivos?\"_ "
   ]
  },
  {
   "cell_type": "markdown",
   "metadata": {},
   "source": [
    "Debido a que mi nombre aparece un total de 0 veces en toda la base de datos (comprobandolo con el metodo que redactare), decidi usar un nombre que aparece mas comunmente en la base, asi que usare Jose. \n",
    "\n",
    "Para esto se usa el comando grep que busca un patron particular, este buscara jose, y se usaron las opciones -i y -r (para no tener problema en usar mi nombre con mayusculas o minusculas, y para buscar de manera recursiva en todos los archivos que esten dentro de un directorio), esto imprimira todas las lineas en donde aparece mi nombre (cada linea es una vez que aparece mi nombre), para contar estas lineas se usa el comando wc -l, esto da el total de veces que aparece mi nombre, el cual es 3322 veces en toda la base de datos. El comando utilizado fue:"
   ]
  },
  {
   "cell_type": "code",
   "execution_count": null,
   "metadata": {},
   "outputs": [],
   "source": [
    "grep -i -r jose ../directorio/ | wc -l"
   ]
  },
  {
   "cell_type": "markdown",
   "metadata": {},
   "source": [
    "_\"16. ¿En cuántos archivos __NO__ aparecen tus nombres?\"_"
   ]
  },
  {
   "cell_type": "markdown",
   "metadata": {},
   "source": [
    "Para esto se usa el comando grep que buscara jose, cuando se usa la opcion solo menciona la cantidad de veces que aparece el patron en el archivo esto nos lo dira con 2 puntos y el numero de veces que aparce (:n), y se usaron las opciones -i, -c y -r (para no tener problema en usar mi nombre con mayusculas o minusculas, para que imprima la cantidad de veces que aparece el patron en el archivo, y para buscar de manera recursiva en todos los archivos que esten dentro de un directorio), si aparece :0 implica que el archivo no contiene el patron que se busca, para contar este patron se usa el comando grep -c, esto da el total de veces que un archivo no contiene mi nombre, el cual es 1837\n",
    "veces en toda la base de datos. El comando utilizado fue:"
   ]
  },
  {
   "cell_type": "code",
   "execution_count": null,
   "metadata": {},
   "outputs": [],
   "source": [
    "grep -i -c -r jose ../directorio/ | grep -c :0"
   ]
  },
  {
   "cell_type": "markdown",
   "metadata": {},
   "source": [
    "_\"17. ¿Cuántos veces coincide tus nombres con un archivo que tenga el año de tu nacimiento?\"_"
   ]
  },
  {
   "cell_type": "markdown",
   "metadata": {},
   "source": [
    "Debido a que mi año de nacimiento aparece un total de 0 veces en toda la base de datos, decidi usar un año que aparece mas comunmente en la base, asi que usare el año 2000.\n",
    "\n",
    "Para esto se usa el comando grep que buscara jose, cuando se usa la opcion solo menciona una vez el nombre del archivo donde se encontro el patron sin mostrar la linea en la que aparece el patron, y se usaron las opciones -i, -l y -r (para no tener problema en usar mi nombre con mayusculas o minusculas, para que imprima solo los nombres de los archivos donde aparece el patron, y para buscar de manera recursiva en todos los archivos que esten dentro de un directorio), en todos los nombres de los archivos aparece el patron del año como _AAAA-, para contar este patron del año 2000 se usa el comando grep -c, esto da el total de veces que un archivo con mi nombre coincide con el año en que naci, el cual es 122 veces en toda la base de datos. El comando utilizado fue:"
   ]
  },
  {
   "cell_type": "code",
   "execution_count": null,
   "metadata": {},
   "outputs": [],
   "source": [
    "grep -i -l -r jose ../directorio/ | grep -c _2000-"
   ]
  },
  {
   "cell_type": "markdown",
   "metadata": {},
   "source": [
    "_\"18. ¿De cuántos directorios y subdirectorios está compuesta la base de datos?\"_"
   ]
  },
  {
   "cell_type": "markdown",
   "metadata": {},
   "source": [
    "Para que nos muestre la cantidad de directorio no es mas que desplegar un listado del contenido de la base de datos (ya que todos son directorios) y contar el numero de lineas que muestra. Luego para subdirectorios se despliga todo el contenido de cada directorio y ya que todos los subdirectorios empiezan con sector se cuentan las veces que aparece este patron. Entonces hay:\n",
    "\n",
    "Directorios: 16\n",
    "\n",
    "Subdirectorios: 170\n",
    "\n",
    "Total: 186\n",
    "\n",
    "Los comandos usados fueron:"
   ]
  },
  {
   "cell_type": "code",
   "execution_count": null,
   "metadata": {},
   "outputs": [],
   "source": [
    "ls ../directorio/ | wc -l\n",
    "ls ../directorio/*/ | grep -c sector"
   ]
  },
  {
   "cell_type": "markdown",
   "metadata": {},
   "source": [
    "_\"19. ¿Cuántos archivos tienen un tamaño menor a 1150 bytes?\"_"
   ]
  },
  {
   "cell_type": "markdown",
   "metadata": {},
   "source": [
    "Para esta actividad no habia ningun comando en los notebooks que buscara un archivo dependiendo de su peso, para esto investigue y encontre find -size que busca los archivos con un rango de peso dado, el cual sera de  menor a 1150c (la c es para que tome la unidad de bytes), luego se desplegaran todos los archivos que pesen esto, y se contara cada linea para ver el total de archivos. En total hay 4157 archivos que pesan menos de 1150 bytes (que por cierto son todos los archivos). Entonces se uso el siguiente comando:"
   ]
  },
  {
   "cell_type": "code",
   "execution_count": null,
   "metadata": {},
   "outputs": [],
   "source": [
    "find ../directorio/*/*/ -size -1150c | wc -l"
   ]
  },
  {
   "cell_type": "markdown",
   "metadata": {},
   "source": [
    "_\"20. ¿Cuántos archivos coinciden con el año 2020 en su nombre y además pertencen al `sectorS\"_"
   ]
  },
  {
   "cell_type": "markdown",
   "metadata": {},
   "source": [
    "Para esto se usa el comando find que buscara los archivos que sean del año 2020 en la base de datos solo en los subdirectorio sectorS, en todos los nombres de los archivos aparece el patron del año como _AAAA-, como se imprimira en cada renglon todos los archivos que cumplen con la busqueda se puede contar los renglones, esto da el total de veces que un archivo con el año 2020 conicide en el sectorS, el cual es 8 veces. El comando utilizado fue:"
   ]
  },
  {
   "cell_type": "code",
   "execution_count": null,
   "metadata": {},
   "outputs": [],
   "source": [
    "find ../directorio/*/sectorS/ -name \"*_2020-*\" | wc -l"
   ]
  }
 ],
 "metadata": {
  "kernelspec": {
   "display_name": "Python 3",
   "language": "python",
   "name": "python3"
  },
  "language_info": {
   "codemirror_mode": {
    "name": "ipython",
    "version": 3
   },
   "file_extension": ".py",
   "mimetype": "text/x-python",
   "name": "python",
   "nbconvert_exporter": "python",
   "pygments_lexer": "ipython3",
   "version": "3.8.3"
  }
 },
 "nbformat": 4,
 "nbformat_minor": 4
}
